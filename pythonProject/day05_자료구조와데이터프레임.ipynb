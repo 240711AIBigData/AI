{
 "cells": [
  {
   "cell_type": "code",
   "id": "initial_id",
   "metadata": {
    "collapsed": true,
    "ExecuteTime": {
     "end_time": "2024-07-23T08:51:48.755267Z",
     "start_time": "2024-07-23T08:51:47.936180Z"
    }
   },
   "source": "import pandas as pd",
   "outputs": [],
   "execution_count": 1
  },
  {
   "metadata": {},
   "cell_type": "markdown",
   "source": [
    "### 문자 변수를 이용해 조건에 맞는 행 추출하기\n",
    "> query()에 전체 조건을 감싸는 따옴표와 추출할 문자를 감싸는 따옴표를 서로 다른 모양으로 입력\n",
    "```\n",
    "    '전체 조건'과 \"추출할 문자\"에 서로 다른 모양 따옴표 입력\n",
    "```"
   ],
   "id": "764d117ea999c827"
  },
  {
   "metadata": {
    "ExecuteTime": {
     "end_time": "2024-07-23T08:54:30.487329Z",
     "start_time": "2024-07-23T08:54:30.470807Z"
    }
   },
   "cell_type": "code",
   "source": [
    "df = pd.DataFrame({'sex':['F', 'M', 'F', 'M'], \n",
    "                   'country':['Korea', 'China', 'Japan', 'USA']})\n",
    "df"
   ],
   "id": "8c13a641d6e8d721",
   "outputs": [
    {
     "data": {
      "text/plain": [
       "  sex country\n",
       "0   F   Korea\n",
       "1   M   China\n",
       "2   F   Japan\n",
       "3   M     USA"
      ],
      "text/html": [
       "<div>\n",
       "<style scoped>\n",
       "    .dataframe tbody tr th:only-of-type {\n",
       "        vertical-align: middle;\n",
       "    }\n",
       "\n",
       "    .dataframe tbody tr th {\n",
       "        vertical-align: top;\n",
       "    }\n",
       "\n",
       "    .dataframe thead th {\n",
       "        text-align: right;\n",
       "    }\n",
       "</style>\n",
       "<table border=\"1\" class=\"dataframe\">\n",
       "  <thead>\n",
       "    <tr style=\"text-align: right;\">\n",
       "      <th></th>\n",
       "      <th>sex</th>\n",
       "      <th>country</th>\n",
       "    </tr>\n",
       "  </thead>\n",
       "  <tbody>\n",
       "    <tr>\n",
       "      <th>0</th>\n",
       "      <td>F</td>\n",
       "      <td>Korea</td>\n",
       "    </tr>\n",
       "    <tr>\n",
       "      <th>1</th>\n",
       "      <td>M</td>\n",
       "      <td>China</td>\n",
       "    </tr>\n",
       "    <tr>\n",
       "      <th>2</th>\n",
       "      <td>F</td>\n",
       "      <td>Japan</td>\n",
       "    </tr>\n",
       "    <tr>\n",
       "      <th>3</th>\n",
       "      <td>M</td>\n",
       "      <td>USA</td>\n",
       "    </tr>\n",
       "  </tbody>\n",
       "</table>\n",
       "</div>"
      ]
     },
     "execution_count": 2,
     "metadata": {},
     "output_type": "execute_result"
    }
   ],
   "execution_count": 2
  },
  {
   "metadata": {
    "ExecuteTime": {
     "end_time": "2024-07-23T08:55:30.162365Z",
     "start_time": "2024-07-23T08:55:30.153164Z"
    }
   },
   "cell_type": "code",
   "source": [
    "# 전체 조건에 작은 따옴표, 추출할 문자에 큰 따옴표 사용\n",
    "df.query('sex == \"F\" & country == \"Korea\"')"
   ],
   "id": "671bd2123d6d6dd0",
   "outputs": [
    {
     "data": {
      "text/plain": [
       "  sex country\n",
       "0   F   Korea"
      ],
      "text/html": [
       "<div>\n",
       "<style scoped>\n",
       "    .dataframe tbody tr th:only-of-type {\n",
       "        vertical-align: middle;\n",
       "    }\n",
       "\n",
       "    .dataframe tbody tr th {\n",
       "        vertical-align: top;\n",
       "    }\n",
       "\n",
       "    .dataframe thead th {\n",
       "        text-align: right;\n",
       "    }\n",
       "</style>\n",
       "<table border=\"1\" class=\"dataframe\">\n",
       "  <thead>\n",
       "    <tr style=\"text-align: right;\">\n",
       "      <th></th>\n",
       "      <th>sex</th>\n",
       "      <th>country</th>\n",
       "    </tr>\n",
       "  </thead>\n",
       "  <tbody>\n",
       "    <tr>\n",
       "      <th>0</th>\n",
       "      <td>F</td>\n",
       "      <td>Korea</td>\n",
       "    </tr>\n",
       "  </tbody>\n",
       "</table>\n",
       "</div>"
      ]
     },
     "execution_count": 3,
     "metadata": {},
     "output_type": "execute_result"
    }
   ],
   "execution_count": 3
  },
  {
   "metadata": {
    "ExecuteTime": {
     "end_time": "2024-07-23T08:56:19.098792Z",
     "start_time": "2024-07-23T08:56:19.091218Z"
    }
   },
   "cell_type": "code",
   "source": [
    "# 전체 조건에 큰 따옴표, 추출할 문자에 작은 따옴표 사용\n",
    "df.query(\"sex == 'M' & country == 'China'\")"
   ],
   "id": "87d6c5ae6aa86963",
   "outputs": [
    {
     "data": {
      "text/plain": [
       "  sex country\n",
       "1   M   China"
      ],
      "text/html": [
       "<div>\n",
       "<style scoped>\n",
       "    .dataframe tbody tr th:only-of-type {\n",
       "        vertical-align: middle;\n",
       "    }\n",
       "\n",
       "    .dataframe tbody tr th {\n",
       "        vertical-align: top;\n",
       "    }\n",
       "\n",
       "    .dataframe thead th {\n",
       "        text-align: right;\n",
       "    }\n",
       "</style>\n",
       "<table border=\"1\" class=\"dataframe\">\n",
       "  <thead>\n",
       "    <tr style=\"text-align: right;\">\n",
       "      <th></th>\n",
       "      <th>sex</th>\n",
       "      <th>country</th>\n",
       "    </tr>\n",
       "  </thead>\n",
       "  <tbody>\n",
       "    <tr>\n",
       "      <th>1</th>\n",
       "      <td>M</td>\n",
       "      <td>China</td>\n",
       "    </tr>\n",
       "  </tbody>\n",
       "</table>\n",
       "</div>"
      ]
     },
     "execution_count": 4,
     "metadata": {},
     "output_type": "execute_result"
    }
   ],
   "execution_count": 4
  },
  {
   "metadata": {},
   "cell_type": "markdown",
   "source": "#### 같은 모양 따옴표 사용하면 에러",
   "id": "c78a9c9d6c58e7e7"
  },
  {
   "metadata": {
    "ExecuteTime": {
     "end_time": "2024-07-23T08:57:34.689804Z",
     "start_time": "2024-07-23T08:57:34.683338Z"
    }
   },
   "cell_type": "code",
   "source": [
    "# 전체 조건과 추출할 문자에 모두 작은 따옴표 사용\n",
    "df.query('sex == 'F' & country == 'Korea'')"
   ],
   "id": "716220f4df3382ab",
   "outputs": [
    {
     "ename": "SyntaxError",
     "evalue": "invalid syntax. Perhaps you forgot a comma? (558072135.py, line 2)",
     "output_type": "error",
     "traceback": [
      "\u001B[1;36m  Cell \u001B[1;32mIn[5], line 2\u001B[1;36m\u001B[0m\n\u001B[1;33m    df.query('sex == 'F' & country == 'Korea'')\u001B[0m\n\u001B[1;37m             ^\u001B[0m\n\u001B[1;31mSyntaxError\u001B[0m\u001B[1;31m:\u001B[0m invalid syntax. Perhaps you forgot a comma?\n"
     ]
    }
   ],
   "execution_count": 5
  },
  {
   "metadata": {},
   "cell_type": "markdown",
   "source": "#### 외부 변수를 이용해 추출하기",
   "id": "6a34041679e5cf88"
  },
  {
   "metadata": {
    "ExecuteTime": {
     "end_time": "2024-07-29T06:14:18.334663Z",
     "start_time": "2024-07-29T06:14:18.313772Z"
    }
   },
   "cell_type": "code",
   "source": [
    "exam = pd.read_csv('./input/exam.csv')\n",
    "\n",
    "# 변수명 앞에 @를 붙여서 조건 입력\n",
    "var = 3\n",
    "exam.query('nclass == @var')"
   ],
   "id": "74abc09b8d987f1a",
   "outputs": [
    {
     "data": {
      "text/plain": [
       "    id  nclass  math  english  science\n",
       "8    9       3    20       98       15\n",
       "9   10       3    50       98       45\n",
       "10  11       3    65       65       65\n",
       "11  12       3    45       85       32"
      ],
      "text/html": [
       "<div>\n",
       "<style scoped>\n",
       "    .dataframe tbody tr th:only-of-type {\n",
       "        vertical-align: middle;\n",
       "    }\n",
       "\n",
       "    .dataframe tbody tr th {\n",
       "        vertical-align: top;\n",
       "    }\n",
       "\n",
       "    .dataframe thead th {\n",
       "        text-align: right;\n",
       "    }\n",
       "</style>\n",
       "<table border=\"1\" class=\"dataframe\">\n",
       "  <thead>\n",
       "    <tr style=\"text-align: right;\">\n",
       "      <th></th>\n",
       "      <th>id</th>\n",
       "      <th>nclass</th>\n",
       "      <th>math</th>\n",
       "      <th>english</th>\n",
       "      <th>science</th>\n",
       "    </tr>\n",
       "  </thead>\n",
       "  <tbody>\n",
       "    <tr>\n",
       "      <th>8</th>\n",
       "      <td>9</td>\n",
       "      <td>3</td>\n",
       "      <td>20</td>\n",
       "      <td>98</td>\n",
       "      <td>15</td>\n",
       "    </tr>\n",
       "    <tr>\n",
       "      <th>9</th>\n",
       "      <td>10</td>\n",
       "      <td>3</td>\n",
       "      <td>50</td>\n",
       "      <td>98</td>\n",
       "      <td>45</td>\n",
       "    </tr>\n",
       "    <tr>\n",
       "      <th>10</th>\n",
       "      <td>11</td>\n",
       "      <td>3</td>\n",
       "      <td>65</td>\n",
       "      <td>65</td>\n",
       "      <td>65</td>\n",
       "    </tr>\n",
       "    <tr>\n",
       "      <th>11</th>\n",
       "      <td>12</td>\n",
       "      <td>3</td>\n",
       "      <td>45</td>\n",
       "      <td>85</td>\n",
       "      <td>32</td>\n",
       "    </tr>\n",
       "  </tbody>\n",
       "</table>\n",
       "</div>"
      ]
     },
     "execution_count": 7,
     "metadata": {},
     "output_type": "execute_result"
    }
   ],
   "execution_count": 7
  },
  {
   "metadata": {},
   "cell_type": "markdown",
   "source": [
    "# 자료구조\n",
    "\n",
    "## 스칼라\n",
    "- 하나의 값으로 구성된 자료구조\n",
    "- 자료구조를 만드는 가장 작은 기본 단위"
   ],
   "id": "8c59e2f1e0b0a765"
  },
  {
   "metadata": {
    "ExecuteTime": {
     "end_time": "2024-07-29T06:20:37.553605Z",
     "start_time": "2024-07-29T06:20:37.546884Z"
    }
   },
   "cell_type": "code",
   "source": [
    "# int (정수)\n",
    "x = 1\n",
    "print(x)\n",
    "type(x)"
   ],
   "id": "48ff38b6c21c74d7",
   "outputs": [
    {
     "name": "stdout",
     "output_type": "stream",
     "text": [
      "1\n"
     ]
    },
    {
     "data": {
      "text/plain": [
       "int"
      ]
     },
     "execution_count": 8,
     "metadata": {},
     "output_type": "execute_result"
    }
   ],
   "execution_count": 8
  },
  {
   "metadata": {
    "ExecuteTime": {
     "end_time": "2024-07-29T06:28:56.658919Z",
     "start_time": "2024-07-29T06:28:56.652009Z"
    }
   },
   "cell_type": "code",
   "source": [
    "# float (실수)\n",
    "x = 1.5\n",
    "print(x)\n",
    "type(x)"
   ],
   "id": "14af5318e56d3ab9",
   "outputs": [
    {
     "name": "stdout",
     "output_type": "stream",
     "text": [
      "1.5\n"
     ]
    },
    {
     "data": {
      "text/plain": [
       "float"
      ]
     },
     "execution_count": 9,
     "metadata": {},
     "output_type": "execute_result"
    }
   ],
   "execution_count": 9
  },
  {
   "metadata": {
    "ExecuteTime": {
     "end_time": "2024-07-29T06:30:12.585070Z",
     "start_time": "2024-07-29T06:30:12.577922Z"
    }
   },
   "cell_type": "code",
   "source": [
    "# str (문자열)\n",
    "x = 'apple'\n",
    "print(x)\n",
    "type(x)"
   ],
   "id": "82fd871ff5734579",
   "outputs": [
    {
     "name": "stdout",
     "output_type": "stream",
     "text": [
      "apple\n"
     ]
    },
    {
     "data": {
      "text/plain": [
       "str"
      ]
     },
     "execution_count": 10,
     "metadata": {},
     "output_type": "execute_result"
    }
   ],
   "execution_count": 10
  },
  {
   "metadata": {
    "ExecuteTime": {
     "end_time": "2024-07-29T06:31:17.757218Z",
     "start_time": "2024-07-29T06:31:17.752614Z"
    }
   },
   "cell_type": "code",
   "source": [
    "# bool (논리형)\n",
    "x = True    # 참(1)\n",
    "y = False   # 거짓(0)\n",
    "print(x, y)\n",
    "print(type(x), type(y))"
   ],
   "id": "fe64121066c43a4e",
   "outputs": [
    {
     "name": "stdout",
     "output_type": "stream",
     "text": [
      "True False\n",
      "<class 'bool'> <class 'bool'>\n"
     ]
    }
   ],
   "execution_count": 11
  },
  {
   "metadata": {},
   "cell_type": "markdown",
   "source": "## 리스트 (list)",
   "id": "2ad7560b3b8f33ca"
  },
  {
   "metadata": {
    "ExecuteTime": {
     "end_time": "2024-07-29T06:41:32.804732Z",
     "start_time": "2024-07-29T06:41:32.797776Z"
    }
   },
   "cell_type": "code",
   "source": [
    "x = [1, 2, 'a', 'b']    # 대괄호 사용\n",
    "print(x)\n",
    "type(x)"
   ],
   "id": "84700b7fd7bd5edf",
   "outputs": [
    {
     "name": "stdout",
     "output_type": "stream",
     "text": [
      "[1, 2, 'a', 'b']\n"
     ]
    },
    {
     "data": {
      "text/plain": [
       "list"
      ]
     },
     "execution_count": 42,
     "metadata": {},
     "output_type": "execute_result"
    }
   ],
   "execution_count": 42
  },
  {
   "metadata": {
    "ExecuteTime": {
     "end_time": "2024-07-29T06:33:40.571744Z",
     "start_time": "2024-07-29T06:33:40.567392Z"
    }
   },
   "cell_type": "code",
   "source": [
    "# 리스트 추출하기\n",
    "x[0]    # 0번째 값 추출 (인덱싱)"
   ],
   "id": "cf409b4a036cc736",
   "outputs": [
    {
     "data": {
      "text/plain": [
       "1"
      ]
     },
     "execution_count": 13,
     "metadata": {},
     "output_type": "execute_result"
    }
   ],
   "execution_count": 13
  },
  {
   "metadata": {
    "ExecuteTime": {
     "end_time": "2024-07-29T06:34:18.729418Z",
     "start_time": "2024-07-29T06:34:18.725323Z"
    }
   },
   "cell_type": "code",
   "source": "x[-1]   # 맨 마지막 값 추출 (인덱싱)",
   "id": "492d7e152a5103e6",
   "outputs": [
    {
     "data": {
      "text/plain": [
       "'b'"
      ]
     },
     "execution_count": 14,
     "metadata": {},
     "output_type": "execute_result"
    }
   ],
   "execution_count": 14
  },
  {
   "metadata": {
    "ExecuteTime": {
     "end_time": "2024-07-29T06:34:34.149282Z",
     "start_time": "2024-07-29T06:34:34.142747Z"
    }
   },
   "cell_type": "code",
   "source": "x[1:3]  # [시작번호:끝번호+1]  # 1,2번째 값 추출(슬라이싱)",
   "id": "7bfd496c49f24a5e",
   "outputs": [
    {
     "data": {
      "text/plain": [
       "[2, 'a']"
      ]
     },
     "execution_count": 15,
     "metadata": {},
     "output_type": "execute_result"
    }
   ],
   "execution_count": 15
  },
  {
   "metadata": {},
   "cell_type": "markdown",
   "source": "### 리스트 수정하기",
   "id": "f52544c3cdbc8cff"
  },
  {
   "metadata": {
    "ExecuteTime": {
     "end_time": "2024-07-29T06:41:39.125256Z",
     "start_time": "2024-07-29T06:41:39.120791Z"
    }
   },
   "cell_type": "code",
   "source": [
    "# 추가하기\n",
    "x.append(8)     # x의 맨 뒤에 8을 추가\n",
    "x"
   ],
   "id": "ecc425838b8d8644",
   "outputs": [
    {
     "data": {
      "text/plain": [
       "[1, 2, 'a', 'b', 8]"
      ]
     },
     "execution_count": 43,
     "metadata": {},
     "output_type": "execute_result"
    }
   ],
   "execution_count": 43
  },
  {
   "metadata": {
    "ExecuteTime": {
     "end_time": "2024-07-29T06:41:40.741416Z",
     "start_time": "2024-07-29T06:41:40.735768Z"
    }
   },
   "cell_type": "code",
   "source": [
    "# 삭제하기 - 인덱싱으로 삭제\n",
    "x.pop(2)    # 2번째 값 삭제\n",
    "x"
   ],
   "id": "c7c2a279a8e6aa1c",
   "outputs": [
    {
     "data": {
      "text/plain": [
       "[1, 2, 'b', 8]"
      ]
     },
     "execution_count": 44,
     "metadata": {},
     "output_type": "execute_result"
    }
   ],
   "execution_count": 44
  },
  {
   "metadata": {
    "ExecuteTime": {
     "end_time": "2024-07-29T06:41:43.156534Z",
     "start_time": "2024-07-29T06:41:43.150771Z"
    }
   },
   "cell_type": "code",
   "source": [
    "# 삭제하기 - 값으로 삭제\n",
    "x.remove(2) # 값 2 삭제\n",
    "x"
   ],
   "id": "92ac110d5f364c15",
   "outputs": [
    {
     "data": {
      "text/plain": [
       "[1, 'b', 8]"
      ]
     },
     "execution_count": 45,
     "metadata": {},
     "output_type": "execute_result"
    }
   ],
   "execution_count": 45
  },
  {
   "metadata": {
    "ExecuteTime": {
     "end_time": "2024-07-29T06:41:47.685890Z",
     "start_time": "2024-07-29T06:41:47.678862Z"
    }
   },
   "cell_type": "code",
   "source": [
    "# 변경하기\n",
    "x[0] = 9    # 0번째 값을 9로 변경\n",
    "x"
   ],
   "id": "d199647ade2d7683",
   "outputs": [
    {
     "data": {
      "text/plain": [
       "[9, 'b', 8]"
      ]
     },
     "execution_count": 46,
     "metadata": {},
     "output_type": "execute_result"
    }
   ],
   "execution_count": 46
  },
  {
   "metadata": {},
   "cell_type": "markdown",
   "source": [
    "## 튜플(tuple)\n",
    "- 튜플은 수정할 수 없음"
   ],
   "id": "415680a2abfd7eaf"
  },
  {
   "metadata": {
    "ExecuteTime": {
     "end_time": "2024-07-29T06:42:34.690325Z",
     "start_time": "2024-07-29T06:42:34.683430Z"
    }
   },
   "cell_type": "code",
   "source": [
    "x = (1, 2, 'a', 'b')    # 소괄호 사용\n",
    "print(x)\n",
    "type(x)"
   ],
   "id": "6644df167043b501",
   "outputs": [
    {
     "name": "stdout",
     "output_type": "stream",
     "text": [
      "(1, 2, 'a', 'b')\n"
     ]
    },
    {
     "data": {
      "text/plain": [
       "tuple"
      ]
     },
     "execution_count": 47,
     "metadata": {},
     "output_type": "execute_result"
    }
   ],
   "execution_count": 47
  },
  {
   "metadata": {
    "ExecuteTime": {
     "end_time": "2024-07-29T06:43:14.208588Z",
     "start_time": "2024-07-29T06:43:14.202588Z"
    }
   },
   "cell_type": "code",
   "source": [
    "x2 = 1, 2, 'a', 'b' # 소괄호 생략 가능\n",
    "print(x)\n",
    "type(x)"
   ],
   "id": "bdd24044d58034e9",
   "outputs": [
    {
     "name": "stdout",
     "output_type": "stream",
     "text": [
      "(1, 2, 'a', 'b')\n"
     ]
    },
    {
     "data": {
      "text/plain": [
       "tuple"
      ]
     },
     "execution_count": 48,
     "metadata": {},
     "output_type": "execute_result"
    }
   ],
   "execution_count": 48
  },
  {
   "metadata": {
    "ExecuteTime": {
     "end_time": "2024-07-29T06:43:28.314444Z",
     "start_time": "2024-07-29T06:43:28.309509Z"
    }
   },
   "cell_type": "code",
   "source": [
    "# 튜플 추출하기 - 인덱싱, 슬라이싱 가능\n",
    "x2[0]"
   ],
   "id": "33dcc7f717d6be85",
   "outputs": [
    {
     "data": {
      "text/plain": [
       "1"
      ]
     },
     "execution_count": 49,
     "metadata": {},
     "output_type": "execute_result"
    }
   ],
   "execution_count": 49
  },
  {
   "metadata": {
    "ExecuteTime": {
     "end_time": "2024-07-29T06:43:34.926979Z",
     "start_time": "2024-07-29T06:43:34.921950Z"
    }
   },
   "cell_type": "code",
   "source": "x2[1:3]",
   "id": "64dc7319b67578f",
   "outputs": [
    {
     "data": {
      "text/plain": [
       "(2, 'a')"
      ]
     },
     "execution_count": 50,
     "metadata": {},
     "output_type": "execute_result"
    }
   ],
   "execution_count": 50
  },
  {
   "metadata": {},
   "cell_type": "markdown",
   "source": "## 딕셔너리 (dict)",
   "id": "766cc65ac6a37fff"
  },
  {
   "metadata": {
    "ExecuteTime": {
     "end_time": "2024-07-29T06:45:25.339446Z",
     "start_time": "2024-07-29T06:45:25.334769Z"
    }
   },
   "cell_type": "code",
   "source": [
    "x = {'name':'kim'}  # 중괄호 사용 {키:값}\n",
    "print(x)\n",
    "type(x)"
   ],
   "id": "bfd680269846db81",
   "outputs": [
    {
     "name": "stdout",
     "output_type": "stream",
     "text": [
      "{'name': 'kim'}\n"
     ]
    },
    {
     "data": {
      "text/plain": [
       "dict"
      ]
     },
     "execution_count": 51,
     "metadata": {},
     "output_type": "execute_result"
    }
   ],
   "execution_count": 51
  },
  {
   "metadata": {
    "ExecuteTime": {
     "end_time": "2024-07-29T06:47:03.586229Z",
     "start_time": "2024-07-29T06:47:03.579799Z"
    }
   },
   "cell_type": "code",
   "source": [
    "x = {'id':1, 'name':['kim', 'park'], 'nclass':(1, 2, 3)}\n",
    "print(x)\n",
    "type(x)"
   ],
   "id": "86e2cdb973d65204",
   "outputs": [
    {
     "name": "stdout",
     "output_type": "stream",
     "text": [
      "{'id': 1, 'name': ['kim', 'park'], 'nclass': (1, 2, 3)}\n"
     ]
    },
    {
     "data": {
      "text/plain": [
       "dict"
      ]
     },
     "execution_count": 55,
     "metadata": {},
     "output_type": "execute_result"
    }
   ],
   "execution_count": 55
  },
  {
   "metadata": {},
   "cell_type": "markdown",
   "source": "### 딕셔너리 추출하기",
   "id": "e33980c823025143"
  },
  {
   "metadata": {
    "ExecuteTime": {
     "end_time": "2024-07-29T06:46:34.888712Z",
     "start_time": "2024-07-29T06:46:34.883799Z"
    }
   },
   "cell_type": "code",
   "source": "x['id']     # 키를 가지고 찾아야 함",
   "id": "4963fff23274ffca",
   "outputs": [
    {
     "data": {
      "text/plain": [
       "1"
      ]
     },
     "execution_count": 53,
     "metadata": {},
     "output_type": "execute_result"
    }
   ],
   "execution_count": 53
  },
  {
   "metadata": {
    "ExecuteTime": {
     "end_time": "2024-07-29T06:47:09.427848Z",
     "start_time": "2024-07-29T06:47:09.422644Z"
    }
   },
   "cell_type": "code",
   "source": "x['name']",
   "id": "1396bc90ee298af6",
   "outputs": [
    {
     "data": {
      "text/plain": [
       "['kim', 'park']"
      ]
     },
     "execution_count": 56,
     "metadata": {},
     "output_type": "execute_result"
    }
   ],
   "execution_count": 56
  },
  {
   "metadata": {
    "ExecuteTime": {
     "end_time": "2024-07-29T06:47:25.810Z",
     "start_time": "2024-07-29T06:47:25.805954Z"
    }
   },
   "cell_type": "code",
   "source": "x['name'][0]    # name의 0번째 값 추출",
   "id": "2d15fbf40e2aefcf",
   "outputs": [
    {
     "data": {
      "text/plain": [
       "'kim'"
      ]
     },
     "execution_count": 57,
     "metadata": {},
     "output_type": "execute_result"
    }
   ],
   "execution_count": 57
  },
  {
   "metadata": {
    "ExecuteTime": {
     "end_time": "2024-07-29T06:47:42.536798Z",
     "start_time": "2024-07-29T06:47:42.530634Z"
    }
   },
   "cell_type": "code",
   "source": "x['nclass'][1]  # nclass의 1번째 값 추출",
   "id": "dbb6ba6c0747f1dc",
   "outputs": [
    {
     "data": {
      "text/plain": [
       "2"
      ]
     },
     "execution_count": 58,
     "metadata": {},
     "output_type": "execute_result"
    }
   ],
   "execution_count": 58
  },
  {
   "metadata": {},
   "cell_type": "markdown",
   "source": "### 딕셔너리 수정하기",
   "id": "1e2e16a2160b048c"
  },
  {
   "metadata": {
    "ExecuteTime": {
     "end_time": "2024-07-29T06:48:42.463590Z",
     "start_time": "2024-07-29T06:48:42.458083Z"
    }
   },
   "cell_type": "code",
   "source": [
    "# 추가하기\n",
    "x['score'] = [5, 6, 7]  # 딕셔너리이름[키이름] = 값\n",
    "x"
   ],
   "id": "bb09d856f31e9629",
   "outputs": [
    {
     "data": {
      "text/plain": [
       "{'id': 1, 'name': ['kim', 'park'], 'nclass': (1, 2, 3), 'score': [5, 6, 7]}"
      ]
     },
     "execution_count": 59,
     "metadata": {},
     "output_type": "execute_result"
    }
   ],
   "execution_count": 59
  },
  {
   "metadata": {
    "ExecuteTime": {
     "end_time": "2024-07-29T06:49:09.817784Z",
     "start_time": "2024-07-29T06:49:09.812042Z"
    }
   },
   "cell_type": "code",
   "source": [
    "# 삭제하기\n",
    "del x['id']\n",
    "x"
   ],
   "id": "49a7426564e5b886",
   "outputs": [
    {
     "data": {
      "text/plain": [
       "{'name': ['kim', 'park'], 'nclass': (1, 2, 3), 'score': [5, 6, 7]}"
      ]
     },
     "execution_count": 60,
     "metadata": {},
     "output_type": "execute_result"
    }
   ],
   "execution_count": 60
  },
  {
   "metadata": {
    "ExecuteTime": {
     "end_time": "2024-07-29T06:49:34.637034Z",
     "start_time": "2024-07-29T06:49:34.633648Z"
    }
   },
   "cell_type": "code",
   "source": "del x['name'][1]    # name 키의 1번째 삭제",
   "id": "465ff49715847d5a",
   "outputs": [],
   "execution_count": 61
  },
  {
   "metadata": {
    "ExecuteTime": {
     "end_time": "2024-07-29T06:50:04.426492Z",
     "start_time": "2024-07-29T06:50:04.420652Z"
    }
   },
   "cell_type": "code",
   "source": "x",
   "id": "99b5a8883ae3d36c",
   "outputs": [
    {
     "data": {
      "text/plain": [
       "{'name': ['kim'], 'nclass': (1, 2, 3), 'score': [5, 6, 7]}"
      ]
     },
     "execution_count": 63,
     "metadata": {},
     "output_type": "execute_result"
    }
   ],
   "execution_count": 63
  },
  {
   "metadata": {
    "ExecuteTime": {
     "end_time": "2024-07-29T06:51:26.270525Z",
     "start_time": "2024-07-29T06:51:26.262886Z"
    }
   },
   "cell_type": "code",
   "source": [
    "# 값 변경하기\n",
    "x['score'] = [7, 8, 9]  # 이미 키가 있으면 변경되고, 없으면 추가됨\n",
    "x"
   ],
   "id": "296d176265ee5b41",
   "outputs": [
    {
     "data": {
      "text/plain": [
       "{'name': ['kim'], 'nclass': (1, 2, 3), 'score': [7, 8, 9]}"
      ]
     },
     "execution_count": 64,
     "metadata": {},
     "output_type": "execute_result"
    }
   ],
   "execution_count": 64
  },
  {
   "metadata": {
    "ExecuteTime": {
     "end_time": "2024-07-29T06:52:05.277910Z",
     "start_time": "2024-07-29T06:52:05.272711Z"
    }
   },
   "cell_type": "code",
   "source": [
    "x['score'][2] = 99  # score키의 2번째 값 변경\n",
    "x"
   ],
   "id": "d65d522992b0f223",
   "outputs": [
    {
     "data": {
      "text/plain": [
       "{'name': ['kim'], 'nclass': (1, 2, 3), 'score': [7, 8, 99]}"
      ]
     },
     "execution_count": 65,
     "metadata": {},
     "output_type": "execute_result"
    }
   ],
   "execution_count": 65
  },
  {
   "metadata": {},
   "cell_type": "markdown",
   "source": "#### 키 변경하기(중요하지 않음)",
   "id": "d5effc41ff55206a"
  },
  {
   "metadata": {
    "ExecuteTime": {
     "end_time": "2024-07-29T06:53:55.934067Z",
     "start_time": "2024-07-29T06:53:55.928779Z"
    }
   },
   "cell_type": "code",
   "source": [
    "# 1단계) 기존 키를 새로운 키에 할당\n",
    "x['math'] = x['score']\n",
    "x"
   ],
   "id": "87a5919978b42602",
   "outputs": [
    {
     "data": {
      "text/plain": [
       "{'name': ['kim'], 'nclass': (1, 2, 3), 'score': [7, 8, 99], 'math': [7, 8, 99]}"
      ]
     },
     "execution_count": 69,
     "metadata": {},
     "output_type": "execute_result"
    }
   ],
   "execution_count": 69
  },
  {
   "metadata": {
    "ExecuteTime": {
     "end_time": "2024-07-29T06:54:25.189661Z",
     "start_time": "2024-07-29T06:54:25.184308Z"
    }
   },
   "cell_type": "code",
   "source": [
    "# 2단계) 기준 키 삭제\n",
    "del x['score']\n",
    "x"
   ],
   "id": "e7b7cc29d04c1f48",
   "outputs": [
    {
     "data": {
      "text/plain": [
       "{'name': ['kim'], 'nclass': (1, 2, 3), 'math': [7, 8, 99]}"
      ]
     },
     "execution_count": 70,
     "metadata": {},
     "output_type": "execute_result"
    }
   ],
   "execution_count": 70
  },
  {
   "metadata": {},
   "cell_type": "markdown",
   "source": [
    "## 시리즈 (series)\n",
    "- 여러 값을 나열한 자료구조\n",
    "- 데이터 프레임을 구성하는 하위 요소\n",
    "- 데이터 프레임을 다루는 함수는 대부분 시리즈를 이용해서 연산\n",
    "- pandas 패키지 안에 있음"
   ],
   "id": "a3dcdcbac403d0d7"
  },
  {
   "metadata": {},
   "cell_type": "markdown",
   "source": "### 시리즈 만들기",
   "id": "feca5433022c1c1"
  },
  {
   "metadata": {
    "ExecuteTime": {
     "end_time": "2024-07-29T07:09:40.360813Z",
     "start_time": "2024-07-29T07:09:40.354312Z"
    }
   },
   "cell_type": "code",
   "source": [
    "import pandas as pd\n",
    "x_num = pd.Series([3, 4, 5])\n",
    "x_num"
   ],
   "id": "f695d2f3055aa1d5",
   "outputs": [
    {
     "data": {
      "text/plain": [
       "0    3\n",
       "1    4\n",
       "2    5\n",
       "dtype: int64"
      ]
     },
     "execution_count": 73,
     "metadata": {},
     "output_type": "execute_result"
    }
   ],
   "execution_count": 73
  },
  {
   "metadata": {
    "ExecuteTime": {
     "end_time": "2024-07-29T07:09:42.937493Z",
     "start_time": "2024-07-29T07:09:42.931770Z"
    }
   },
   "cell_type": "code",
   "source": "type(x_num)",
   "id": "45a9524f730acf08",
   "outputs": [
    {
     "data": {
      "text/plain": [
       "pandas.core.series.Series"
      ]
     },
     "execution_count": 74,
     "metadata": {},
     "output_type": "execute_result"
    }
   ],
   "execution_count": 74
  },
  {
   "metadata": {
    "ExecuteTime": {
     "end_time": "2024-07-29T07:10:35.348011Z",
     "start_time": "2024-07-29T07:10:35.341815Z"
    }
   },
   "cell_type": "code",
   "source": [
    "# 인덱스 정하기 (기본은 0부터 시작)\n",
    "x_label = pd.Series([3, 4, 5], index=['kim', 'lee', 'park'])\n",
    "x_label"
   ],
   "id": "78120392d9ee4c3c",
   "outputs": [
    {
     "data": {
      "text/plain": [
       "kim     3\n",
       "lee     4\n",
       "park    5\n",
       "dtype: int64"
      ]
     },
     "execution_count": 75,
     "metadata": {},
     "output_type": "execute_result"
    }
   ],
   "execution_count": 75
  },
  {
   "metadata": {},
   "cell_type": "markdown",
   "source": "### 시리즈 추출하기",
   "id": "f2cf2d83da289771"
  },
  {
   "metadata": {
    "ExecuteTime": {
     "end_time": "2024-07-29T07:11:22.940717Z",
     "start_time": "2024-07-29T07:11:22.934651Z"
    }
   },
   "cell_type": "code",
   "source": "x_num[0]",
   "id": "7d2e1ade226d659",
   "outputs": [
    {
     "data": {
      "text/plain": [
       "3"
      ]
     },
     "execution_count": 76,
     "metadata": {},
     "output_type": "execute_result"
    }
   ],
   "execution_count": 76
  },
  {
   "metadata": {
    "ExecuteTime": {
     "end_time": "2024-07-29T07:11:30.261112Z",
     "start_time": "2024-07-29T07:11:30.256222Z"
    }
   },
   "cell_type": "code",
   "source": "x_num[1]",
   "id": "b72f35aae48cf424",
   "outputs": [
    {
     "data": {
      "text/plain": [
       "4"
      ]
     },
     "execution_count": 77,
     "metadata": {},
     "output_type": "execute_result"
    }
   ],
   "execution_count": 77
  },
  {
   "metadata": {
    "ExecuteTime": {
     "end_time": "2024-07-29T07:11:49.088581Z",
     "start_time": "2024-07-29T07:11:49.081787Z"
    }
   },
   "cell_type": "code",
   "source": "x_label[2]  # 2번째 값 추출",
   "id": "641331f2e7bce92a",
   "outputs": [
    {
     "name": "stderr",
     "output_type": "stream",
     "text": [
      "C:\\Users\\babys\\AppData\\Local\\Temp\\ipykernel_19076\\2353717201.py:1: FutureWarning: Series.__getitem__ treating keys as positions is deprecated. In a future version, integer keys will always be treated as labels (consistent with DataFrame behavior). To access a value by position, use `ser.iloc[pos]`\n",
      "  x_label[2]\n"
     ]
    },
    {
     "data": {
      "text/plain": [
       "5"
      ]
     },
     "execution_count": 78,
     "metadata": {},
     "output_type": "execute_result"
    }
   ],
   "execution_count": 78
  },
  {
   "metadata": {
    "ExecuteTime": {
     "end_time": "2024-07-29T07:12:20.265970Z",
     "start_time": "2024-07-29T07:12:20.260033Z"
    }
   },
   "cell_type": "code",
   "source": "x_label['kim']  # 인덱스 kim의 값 추출",
   "id": "5628b51e4970a317",
   "outputs": [
    {
     "data": {
      "text/plain": [
       "3"
      ]
     },
     "execution_count": 79,
     "metadata": {},
     "output_type": "execute_result"
    }
   ],
   "execution_count": 79
  },
  {
   "metadata": {},
   "cell_type": "markdown",
   "source": "### 시리즈 수정하기",
   "id": "e3b47419cefe08a"
  },
  {
   "metadata": {
    "ExecuteTime": {
     "end_time": "2024-07-29T07:13:04.077816Z",
     "start_time": "2024-07-29T07:13:04.072431Z"
    }
   },
   "cell_type": "code",
   "source": [
    "# 추가하기\n",
    "x_num[3] = 9    # 3번째 인덱스에 값 9 할당\n",
    "x_num"
   ],
   "id": "2759c431bbde70dc",
   "outputs": [
    {
     "data": {
      "text/plain": [
       "0    3\n",
       "1    4\n",
       "2    5\n",
       "3    9\n",
       "dtype: int64"
      ]
     },
     "execution_count": 81,
     "metadata": {},
     "output_type": "execute_result"
    }
   ],
   "execution_count": 81
  },
  {
   "metadata": {
    "ExecuteTime": {
     "end_time": "2024-07-29T07:13:26.674378Z",
     "start_time": "2024-07-29T07:13:26.664940Z"
    }
   },
   "cell_type": "code",
   "source": [
    "x_label['choi'] = 6 # 인덱스 choi에 값 6 할당\n",
    "x_label"
   ],
   "id": "3238c20b25154568",
   "outputs": [
    {
     "data": {
      "text/plain": [
       "kim     3\n",
       "lee     4\n",
       "park    5\n",
       "choi    6\n",
       "dtype: int64"
      ]
     },
     "execution_count": 82,
     "metadata": {},
     "output_type": "execute_result"
    }
   ],
   "execution_count": 82
  },
  {
   "metadata": {
    "ExecuteTime": {
     "end_time": "2024-07-29T07:14:13.782176Z",
     "start_time": "2024-07-29T07:14:13.775179Z"
    }
   },
   "cell_type": "code",
   "source": [
    "# 삭제하기\n",
    "del x_num[2]    # 인덱스번호 2번째 값 삭제\n",
    "x_num"
   ],
   "id": "a2c0da3f3724f04c",
   "outputs": [
    {
     "data": {
      "text/plain": [
       "0    3\n",
       "1    4\n",
       "3    9\n",
       "dtype: int64"
      ]
     },
     "execution_count": 83,
     "metadata": {},
     "output_type": "execute_result"
    }
   ],
   "execution_count": 83
  },
  {
   "metadata": {
    "ExecuteTime": {
     "end_time": "2024-07-29T07:14:26.843065Z",
     "start_time": "2024-07-29T07:14:26.836874Z"
    }
   },
   "cell_type": "code",
   "source": [
    "del x_label['park']\n",
    "x_label"
   ],
   "id": "b34b52a9247a81d8",
   "outputs": [
    {
     "data": {
      "text/plain": [
       "kim     3\n",
       "lee     4\n",
       "choi    6\n",
       "dtype: int64"
      ]
     },
     "execution_count": 84,
     "metadata": {},
     "output_type": "execute_result"
    }
   ],
   "execution_count": 84
  },
  {
   "metadata": {
    "ExecuteTime": {
     "end_time": "2024-07-29T07:14:46.842523Z",
     "start_time": "2024-07-29T07:14:46.834513Z"
    }
   },
   "cell_type": "code",
   "source": [
    "# 수정하기\n",
    "x_num[3] = 4    # 인덱스 3의 값을 4로 변경\n",
    "x_num"
   ],
   "id": "ff6cbc1ebe5f4d7",
   "outputs": [
    {
     "data": {
      "text/plain": [
       "0    3\n",
       "1    4\n",
       "3    4\n",
       "dtype: int64"
      ]
     },
     "execution_count": 85,
     "metadata": {},
     "output_type": "execute_result"
    }
   ],
   "execution_count": 85
  },
  {
   "metadata": {
    "ExecuteTime": {
     "end_time": "2024-07-29T07:15:18.498920Z",
     "start_time": "2024-07-29T07:15:18.490609Z"
    }
   },
   "cell_type": "code",
   "source": [
    "x_label['kim'] = 5  # 인덱스 kim의 값을 5로 변경\n",
    "x_label"
   ],
   "id": "90c23a1e1429a9",
   "outputs": [
    {
     "data": {
      "text/plain": [
       "kim     5\n",
       "lee     4\n",
       "choi    6\n",
       "dtype: int64"
      ]
     },
     "execution_count": 86,
     "metadata": {},
     "output_type": "execute_result"
    }
   ],
   "execution_count": 86
  },
  {
   "metadata": {},
   "cell_type": "markdown",
   "source": [
    "## 데이터 프레임\n",
    "- 행과 열로 구성된 사각형 모양의 표처럼 생긴 자료구조\n",
    "- 데이터를 다룰 때 가장 많이 사용되는 자료구조"
   ],
   "id": "3e2344dc5c8f917b"
  },
  {
   "metadata": {
    "ExecuteTime": {
     "end_time": "2024-07-29T07:16:57.638856Z",
     "start_time": "2024-07-29T07:16:57.630779Z"
    }
   },
   "cell_type": "code",
   "source": [
    "df = pd.DataFrame({'val1':[1, 2, 3], 'val2':[4, 5, 6]})\n",
    "df"
   ],
   "id": "3dfefff342ef3f9c",
   "outputs": [
    {
     "data": {
      "text/plain": [
       "   val1  val2\n",
       "0     1     4\n",
       "1     2     5\n",
       "2     3     6"
      ],
      "text/html": [
       "<div>\n",
       "<style scoped>\n",
       "    .dataframe tbody tr th:only-of-type {\n",
       "        vertical-align: middle;\n",
       "    }\n",
       "\n",
       "    .dataframe tbody tr th {\n",
       "        vertical-align: top;\n",
       "    }\n",
       "\n",
       "    .dataframe thead th {\n",
       "        text-align: right;\n",
       "    }\n",
       "</style>\n",
       "<table border=\"1\" class=\"dataframe\">\n",
       "  <thead>\n",
       "    <tr style=\"text-align: right;\">\n",
       "      <th></th>\n",
       "      <th>val1</th>\n",
       "      <th>val2</th>\n",
       "    </tr>\n",
       "  </thead>\n",
       "  <tbody>\n",
       "    <tr>\n",
       "      <th>0</th>\n",
       "      <td>1</td>\n",
       "      <td>4</td>\n",
       "    </tr>\n",
       "    <tr>\n",
       "      <th>1</th>\n",
       "      <td>2</td>\n",
       "      <td>5</td>\n",
       "    </tr>\n",
       "    <tr>\n",
       "      <th>2</th>\n",
       "      <td>3</td>\n",
       "      <td>6</td>\n",
       "    </tr>\n",
       "  </tbody>\n",
       "</table>\n",
       "</div>"
      ]
     },
     "execution_count": 87,
     "metadata": {},
     "output_type": "execute_result"
    }
   ],
   "execution_count": 87
  },
  {
   "metadata": {
    "ExecuteTime": {
     "end_time": "2024-07-29T07:17:07.724286Z",
     "start_time": "2024-07-29T07:17:07.719797Z"
    }
   },
   "cell_type": "code",
   "source": "type(df)",
   "id": "b04acfb1f143dda5",
   "outputs": [
    {
     "data": {
      "text/plain": [
       "pandas.core.frame.DataFrame"
      ]
     },
     "execution_count": 88,
     "metadata": {},
     "output_type": "execute_result"
    }
   ],
   "execution_count": 88
  },
  {
   "metadata": {
    "ExecuteTime": {
     "end_time": "2024-07-29T07:17:57.978882Z",
     "start_time": "2024-07-29T07:17:57.971840Z"
    }
   },
   "cell_type": "code",
   "source": [
    "# 인덱스 정하기\n",
    "df = pd.DataFrame({'val1':[1, 2, 3], 'val2':[4, 5, 6]},\n",
    "                  index=['kim', 'lee', 'park'])\n",
    "df"
   ],
   "id": "3a495563b5866f29",
   "outputs": [
    {
     "data": {
      "text/plain": [
       "      val1  val2\n",
       "kim      1     4\n",
       "lee      2     5\n",
       "park     3     6"
      ],
      "text/html": [
       "<div>\n",
       "<style scoped>\n",
       "    .dataframe tbody tr th:only-of-type {\n",
       "        vertical-align: middle;\n",
       "    }\n",
       "\n",
       "    .dataframe tbody tr th {\n",
       "        vertical-align: top;\n",
       "    }\n",
       "\n",
       "    .dataframe thead th {\n",
       "        text-align: right;\n",
       "    }\n",
       "</style>\n",
       "<table border=\"1\" class=\"dataframe\">\n",
       "  <thead>\n",
       "    <tr style=\"text-align: right;\">\n",
       "      <th></th>\n",
       "      <th>val1</th>\n",
       "      <th>val2</th>\n",
       "    </tr>\n",
       "  </thead>\n",
       "  <tbody>\n",
       "    <tr>\n",
       "      <th>kim</th>\n",
       "      <td>1</td>\n",
       "      <td>4</td>\n",
       "    </tr>\n",
       "    <tr>\n",
       "      <th>lee</th>\n",
       "      <td>2</td>\n",
       "      <td>5</td>\n",
       "    </tr>\n",
       "    <tr>\n",
       "      <th>park</th>\n",
       "      <td>3</td>\n",
       "      <td>6</td>\n",
       "    </tr>\n",
       "  </tbody>\n",
       "</table>\n",
       "</div>"
      ]
     },
     "execution_count": 89,
     "metadata": {},
     "output_type": "execute_result"
    }
   ],
   "execution_count": 89
  },
  {
   "metadata": {
    "ExecuteTime": {
     "end_time": "2024-07-29T07:18:20.480899Z",
     "start_time": "2024-07-29T07:18:20.475981Z"
    }
   },
   "cell_type": "code",
   "source": [
    "x = df['val1']\n",
    "x"
   ],
   "id": "f18c07cefb5b2958",
   "outputs": [
    {
     "data": {
      "text/plain": [
       "kim     1\n",
       "lee     2\n",
       "park    3\n",
       "Name: val1, dtype: int64"
      ]
     },
     "execution_count": 90,
     "metadata": {},
     "output_type": "execute_result"
    }
   ],
   "execution_count": 90
  },
  {
   "metadata": {
    "ExecuteTime": {
     "end_time": "2024-07-29T07:18:41.476773Z",
     "start_time": "2024-07-29T07:18:41.471731Z"
    }
   },
   "cell_type": "code",
   "source": "type(x)",
   "id": "691a721de07eba22",
   "outputs": [
    {
     "data": {
      "text/plain": [
       "pandas.core.series.Series"
      ]
     },
     "execution_count": 91,
     "metadata": {},
     "output_type": "execute_result"
    }
   ],
   "execution_count": 91
  },
  {
   "metadata": {},
   "cell_type": "markdown",
   "source": "#### 데이터 프레임 자료구조 바꾸기",
   "id": "cf9fa2855c798ba"
  },
  {
   "metadata": {
    "ExecuteTime": {
     "end_time": "2024-07-29T07:19:19.055008Z",
     "start_time": "2024-07-29T07:19:18.325939Z"
    }
   },
   "cell_type": "code",
   "source": [
    "x = [1, 1, 2, 3]    # 리스트\n",
    "x.mean()    # mean함수는 리스트에 없다"
   ],
   "id": "8853ffe97bf95b21",
   "outputs": [
    {
     "ename": "AttributeError",
     "evalue": "'list' object has no attribute 'mean'",
     "output_type": "error",
     "traceback": [
      "\u001B[1;31m---------------------------------------------------------------------------\u001B[0m",
      "\u001B[1;31mAttributeError\u001B[0m                            Traceback (most recent call last)",
      "Cell \u001B[1;32mIn[92], line 2\u001B[0m\n\u001B[0;32m      1\u001B[0m x \u001B[38;5;241m=\u001B[39m [\u001B[38;5;241m1\u001B[39m, \u001B[38;5;241m1\u001B[39m, \u001B[38;5;241m2\u001B[39m, \u001B[38;5;241m3\u001B[39m]\n\u001B[1;32m----> 2\u001B[0m x\u001B[38;5;241m.\u001B[39mmean()\n",
      "\u001B[1;31mAttributeError\u001B[0m: 'list' object has no attribute 'mean'"
     ]
    }
   ],
   "execution_count": 92
  },
  {
   "metadata": {
    "ExecuteTime": {
     "end_time": "2024-07-29T07:20:06.833477Z",
     "start_time": "2024-07-29T07:20:06.828662Z"
    }
   },
   "cell_type": "code",
   "source": [
    "df_x = pd.DataFrame(x)\n",
    "type(df_x)"
   ],
   "id": "c28aa7ed99ee3574",
   "outputs": [
    {
     "data": {
      "text/plain": [
       "pandas.core.frame.DataFrame"
      ]
     },
     "execution_count": 93,
     "metadata": {},
     "output_type": "execute_result"
    }
   ],
   "execution_count": 93
  },
  {
   "metadata": {
    "ExecuteTime": {
     "end_time": "2024-07-29T07:20:16.216618Z",
     "start_time": "2024-07-29T07:20:16.210277Z"
    }
   },
   "cell_type": "code",
   "source": "df_x.mean()",
   "id": "4f954711252d368b",
   "outputs": [
    {
     "data": {
      "text/plain": [
       "0    1.75\n",
       "dtype: float64"
      ]
     },
     "execution_count": 94,
     "metadata": {},
     "output_type": "execute_result"
    }
   ],
   "execution_count": 94
  },
  {
   "metadata": {
    "ExecuteTime": {
     "end_time": "2024-07-29T07:20:31.686117Z",
     "start_time": "2024-07-29T07:20:31.680660Z"
    }
   },
   "cell_type": "code",
   "source": "df_x",
   "id": "52c4177040f36fb1",
   "outputs": [
    {
     "data": {
      "text/plain": [
       "   0\n",
       "0  1\n",
       "1  1\n",
       "2  2\n",
       "3  3"
      ],
      "text/html": [
       "<div>\n",
       "<style scoped>\n",
       "    .dataframe tbody tr th:only-of-type {\n",
       "        vertical-align: middle;\n",
       "    }\n",
       "\n",
       "    .dataframe tbody tr th {\n",
       "        vertical-align: top;\n",
       "    }\n",
       "\n",
       "    .dataframe thead th {\n",
       "        text-align: right;\n",
       "    }\n",
       "</style>\n",
       "<table border=\"1\" class=\"dataframe\">\n",
       "  <thead>\n",
       "    <tr style=\"text-align: right;\">\n",
       "      <th></th>\n",
       "      <th>0</th>\n",
       "    </tr>\n",
       "  </thead>\n",
       "  <tbody>\n",
       "    <tr>\n",
       "      <th>0</th>\n",
       "      <td>1</td>\n",
       "    </tr>\n",
       "    <tr>\n",
       "      <th>1</th>\n",
       "      <td>1</td>\n",
       "    </tr>\n",
       "    <tr>\n",
       "      <th>2</th>\n",
       "      <td>2</td>\n",
       "    </tr>\n",
       "    <tr>\n",
       "      <th>3</th>\n",
       "      <td>3</td>\n",
       "    </tr>\n",
       "  </tbody>\n",
       "</table>\n",
       "</div>"
      ]
     },
     "execution_count": 96,
     "metadata": {},
     "output_type": "execute_result"
    }
   ],
   "execution_count": 96
  },
  {
   "metadata": {},
   "cell_type": "code",
   "outputs": [],
   "execution_count": null,
   "source": "",
   "id": "a23b97d3f795b580"
  }
 ],
 "metadata": {
  "kernelspec": {
   "display_name": "Python 3",
   "language": "python",
   "name": "python3"
  },
  "language_info": {
   "codemirror_mode": {
    "name": "ipython",
    "version": 2
   },
   "file_extension": ".py",
   "mimetype": "text/x-python",
   "name": "python",
   "nbconvert_exporter": "python",
   "pygments_lexer": "ipython2",
   "version": "2.7.6"
  }
 },
 "nbformat": 4,
 "nbformat_minor": 5
}
