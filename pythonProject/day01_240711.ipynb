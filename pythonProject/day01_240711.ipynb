{
 "cells": [
  {
   "metadata": {},
   "cell_type": "markdown",
   "source": [
    "## 변수\n",
    "\n",
    "\n",
    "### 변수만들기\n"
   ],
   "id": "b5b3b64e02919360"
  },
  {
   "cell_type": "code",
   "id": "initial_id",
   "metadata": {
    "collapsed": true,
    "ExecuteTime": {
     "end_time": "2024-07-16T10:44:34.304219Z",
     "start_time": "2024-07-16T10:44:34.272912Z"
    }
   },
   "source": [
    "a = 1   # a에 값 1을 할당(대입)\n",
    "a       # 셸에서 가장 마지막에 변수만 입력시 자동 출력"
   ],
   "outputs": [
    {
     "data": {
      "text/plain": [
       "1"
      ]
     },
     "execution_count": 1,
     "metadata": {},
     "output_type": "execute_result"
    }
   ],
   "execution_count": 1
  },
  {
   "metadata": {
    "ExecuteTime": {
     "end_time": "2024-07-16T10:45:48.144558Z",
     "start_time": "2024-07-16T10:45:48.137017Z"
    }
   },
   "cell_type": "code",
   "source": [
    "b = 2\n",
    "b"
   ],
   "id": "1de87760447e283a",
   "outputs": [
    {
     "data": {
      "text/plain": [
       "2"
      ]
     },
     "execution_count": 2,
     "metadata": {},
     "output_type": "execute_result"
    }
   ],
   "execution_count": 2
  },
  {
   "metadata": {
    "ExecuteTime": {
     "end_time": "2024-07-16T10:46:01.985645Z",
     "start_time": "2024-07-16T10:46:01.965848Z"
    }
   },
   "cell_type": "code",
   "source": [
    "c = 3\n",
    "c"
   ],
   "id": "1df9989427c3ef00",
   "outputs": [
    {
     "data": {
      "text/plain": [
       "3"
      ]
     },
     "execution_count": 3,
     "metadata": {},
     "output_type": "execute_result"
    }
   ],
   "execution_count": 3
  },
  {
   "metadata": {
    "ExecuteTime": {
     "end_time": "2024-07-16T10:46:23.447189Z",
     "start_time": "2024-07-16T10:46:23.429667Z"
    }
   },
   "cell_type": "code",
   "source": [
    "d = 3.5     # 실수형(float)\n",
    "d"
   ],
   "id": "3dd539ae473fb013",
   "outputs": [
    {
     "data": {
      "text/plain": [
       "3.5"
      ]
     },
     "execution_count": 4,
     "metadata": {},
     "output_type": "execute_result"
    }
   ],
   "execution_count": 4
  },
  {
   "metadata": {},
   "cell_type": "markdown",
   "source": "### 변수로 연산하기\n",
   "id": "ec58c796292f59d3"
  },
  {
   "metadata": {
    "ExecuteTime": {
     "end_time": "2024-07-16T10:47:04.769978Z",
     "start_time": "2024-07-16T10:47:04.754110Z"
    }
   },
   "cell_type": "code",
   "source": "a + b",
   "id": "9fb05b29d5861411",
   "outputs": [
    {
     "data": {
      "text/plain": [
       "3"
      ]
     },
     "execution_count": 5,
     "metadata": {},
     "output_type": "execute_result"
    }
   ],
   "execution_count": 5
  },
  {
   "metadata": {
    "ExecuteTime": {
     "end_time": "2024-07-16T10:47:19.312267Z",
     "start_time": "2024-07-16T10:47:19.290580Z"
    }
   },
   "cell_type": "code",
   "source": "a + b + c",
   "id": "806bc7c5e4b5e432",
   "outputs": [
    {
     "data": {
      "text/plain": [
       "6"
      ]
     },
     "execution_count": 6,
     "metadata": {},
     "output_type": "execute_result"
    }
   ],
   "execution_count": 6
  },
  {
   "metadata": {
    "ExecuteTime": {
     "end_time": "2024-07-16T10:47:42.700704Z",
     "start_time": "2024-07-16T10:47:42.687874Z"
    }
   },
   "cell_type": "code",
   "source": "4 / b   # 나누기는 무조건 실수형",
   "id": "ebb2d0bf3a7880eb",
   "outputs": [
    {
     "data": {
      "text/plain": [
       "2.0"
      ]
     },
     "execution_count": 7,
     "metadata": {},
     "output_type": "execute_result"
    }
   ],
   "execution_count": 7
  },
  {
   "metadata": {
    "ExecuteTime": {
     "end_time": "2024-07-16T10:47:51.123676Z",
     "start_time": "2024-07-16T10:47:51.110186Z"
    }
   },
   "cell_type": "code",
   "source": "5 * b   # 곱하기",
   "id": "31ba17765105afd5",
   "outputs": [
    {
     "data": {
      "text/plain": [
       "10"
      ]
     },
     "execution_count": 8,
     "metadata": {},
     "output_type": "execute_result"
    }
   ],
   "execution_count": 8
  },
  {
   "metadata": {},
   "cell_type": "markdown",
   "source": [
    "### 여러 값(복수)으로 구성된 변수 만들기\n",
    "#### 컬렉션\n",
    "    - 리스트 [] : 다른 언어의 배열과 비슷하지만, 같은 자료형이 아니어도 모을 수 있음\n",
    "    - 튜플 () : 리스트와 비슷하지만 수정, 추가, 삭제 불가\n",
    "    - 세트 {} : 중복 불가, 순서 없음\n",
    "    - 딕셔너리 {키:값} : 키로 다 해결, 키는 중복 불가 "
   ],
   "id": "c57ed5caad5ba4af"
  },
  {
   "metadata": {
    "ExecuteTime": {
     "end_time": "2024-07-16T10:53:59.199314Z",
     "start_time": "2024-07-16T10:53:59.179267Z"
    }
   },
   "cell_type": "code",
   "source": [
    "var1 = [1, 2, 3]    # 리스트\n",
    "var1"
   ],
   "id": "fac8392e5c364ac5",
   "outputs": [
    {
     "data": {
      "text/plain": [
       "[1, 2, 3]"
      ]
     },
     "execution_count": 9,
     "metadata": {},
     "output_type": "execute_result"
    }
   ],
   "execution_count": 9
  },
  {
   "metadata": {
    "ExecuteTime": {
     "end_time": "2024-07-16T10:54:39.647883Z",
     "start_time": "2024-07-16T10:54:39.639500Z"
    }
   },
   "cell_type": "code",
   "source": [
    "var2 = [4, 5, 6]\n",
    "var2"
   ],
   "id": "5c368d58984829a6",
   "outputs": [
    {
     "data": {
      "text/plain": [
       "[4, 5, 6]"
      ]
     },
     "execution_count": 10,
     "metadata": {},
     "output_type": "execute_result"
    }
   ],
   "execution_count": 10
  },
  {
   "metadata": {
    "ExecuteTime": {
     "end_time": "2024-07-16T10:54:51.252260Z",
     "start_time": "2024-07-16T10:54:51.233916Z"
    }
   },
   "cell_type": "code",
   "source": "var1 + var2         # 새로운 리스트로 합쳐짐",
   "id": "83a54bae053d3552",
   "outputs": [
    {
     "data": {
      "text/plain": [
       "[1, 2, 3, 4, 5, 6]"
      ]
     },
     "execution_count": 11,
     "metadata": {},
     "output_type": "execute_result"
    }
   ],
   "execution_count": 11
  },
  {
   "metadata": {
    "ExecuteTime": {
     "end_time": "2024-07-16T10:55:33.919558Z",
     "start_time": "2024-07-16T10:55:33.911040Z"
    }
   },
   "cell_type": "code",
   "source": "var1 * 3            # 뒤의 숫자만큼 반복",
   "id": "97054d992f4c2ba7",
   "outputs": [
    {
     "data": {
      "text/plain": [
       "[1, 2, 3, 1, 2, 3, 1, 2, 3]"
      ]
     },
     "execution_count": 12,
     "metadata": {},
     "output_type": "execute_result"
    }
   ],
   "execution_count": 12
  },
  {
   "metadata": {},
   "cell_type": "markdown",
   "source": "### 문자열로 된 변수 만들기",
   "id": "b9c8e2449fa1aebd"
  },
  {
   "metadata": {
    "ExecuteTime": {
     "end_time": "2024-07-16T10:57:33.977047Z",
     "start_time": "2024-07-16T10:57:33.966534Z"
    }
   },
   "cell_type": "code",
   "source": [
    "str1 = 'a'      # 작은따옴표, 큰따옴표 모두 사용 가능\n",
    "str1"
   ],
   "id": "68fee33b6125e7b9",
   "outputs": [
    {
     "data": {
      "text/plain": [
       "'a'"
      ]
     },
     "execution_count": 13,
     "metadata": {},
     "output_type": "execute_result"
    }
   ],
   "execution_count": 13
  },
  {
   "metadata": {
    "ExecuteTime": {
     "end_time": "2024-07-16T10:57:51.047151Z",
     "start_time": "2024-07-16T10:57:51.030111Z"
    }
   },
   "cell_type": "code",
   "source": [
    "str2 = 'text'\n",
    "str2"
   ],
   "id": "7a812b131dec34ca",
   "outputs": [
    {
     "data": {
      "text/plain": [
       "'text'"
      ]
     },
     "execution_count": 14,
     "metadata": {},
     "output_type": "execute_result"
    }
   ],
   "execution_count": 14
  },
  {
   "metadata": {
    "ExecuteTime": {
     "end_time": "2024-07-16T10:58:16.522291Z",
     "start_time": "2024-07-16T10:58:16.512201Z"
    }
   },
   "cell_type": "code",
   "source": [
    "str3 = 'Hello world!!'      # 공백도 글자로 인식\n",
    "str3"
   ],
   "id": "c770de8813cb968d",
   "outputs": [
    {
     "data": {
      "text/plain": [
       "'Hello world!!'"
      ]
     },
     "execution_count": 15,
     "metadata": {},
     "output_type": "execute_result"
    }
   ],
   "execution_count": 15
  },
  {
   "metadata": {
    "ExecuteTime": {
     "end_time": "2024-07-16T10:58:55.667501Z",
     "start_time": "2024-07-16T10:58:55.650192Z"
    }
   },
   "cell_type": "code",
   "source": [
    "str4 = ['a', 'b', 'c']\n",
    "str4"
   ],
   "id": "f5ccae0e75d95bfb",
   "outputs": [
    {
     "data": {
      "text/plain": [
       "['a', 'b', 'c']"
      ]
     },
     "execution_count": 16,
     "metadata": {},
     "output_type": "execute_result"
    }
   ],
   "execution_count": 16
  },
  {
   "metadata": {
    "ExecuteTime": {
     "end_time": "2024-07-16T10:59:23.270298Z",
     "start_time": "2024-07-16T10:59:23.256991Z"
    }
   },
   "cell_type": "code",
   "source": [
    "str5 = ['Hello', 'world', 'is', 'good!']\n",
    "str5"
   ],
   "id": "24dbc72dfa1930ac",
   "outputs": [
    {
     "data": {
      "text/plain": [
       "['Hello', 'world', 'is', 'good!']"
      ]
     },
     "execution_count": 17,
     "metadata": {},
     "output_type": "execute_result"
    }
   ],
   "execution_count": 17
  },
  {
   "metadata": {},
   "cell_type": "markdown",
   "source": "### 문자열 변수 결합하기",
   "id": "7fea32e01f184856"
  },
  {
   "metadata": {
    "ExecuteTime": {
     "end_time": "2024-07-16T11:00:05.837839Z",
     "start_time": "2024-07-16T11:00:05.819805Z"
    }
   },
   "cell_type": "code",
   "source": "str2 + str3     # 하나의 새로운 문자열로 합쳐짐",
   "id": "2918ae99b95c0af3",
   "outputs": [
    {
     "data": {
      "text/plain": [
       "'textHello world!!'"
      ]
     },
     "execution_count": 18,
     "metadata": {},
     "output_type": "execute_result"
    }
   ],
   "execution_count": 18
  },
  {
   "metadata": {
    "ExecuteTime": {
     "end_time": "2024-07-17T07:59:19.641712Z",
     "start_time": "2024-07-17T07:59:19.609401Z"
    }
   },
   "cell_type": "code",
   "source": "str2 + ' ' + str3",
   "id": "5b42a96735041ce0",
   "outputs": [
    {
     "data": {
      "text/plain": [
       "'text Hello world!!'"
      ]
     },
     "execution_count": 19,
     "metadata": {},
     "output_type": "execute_result"
    }
   ],
   "execution_count": 19
  },
  {
   "metadata": {
    "ExecuteTime": {
     "end_time": "2024-07-17T07:59:47.510742Z",
     "start_time": "2024-07-17T07:59:46.481260Z"
    }
   },
   "cell_type": "code",
   "source": "str1 + 2        # 서로 다른 자료형은 연산 불가",
   "id": "73d19e559e14dbcc",
   "outputs": [
    {
     "ename": "TypeError",
     "evalue": "can only concatenate str (not \"int\") to str",
     "output_type": "error",
     "traceback": [
      "\u001B[1;31m---------------------------------------------------------------------------\u001B[0m",
      "\u001B[1;31mTypeError\u001B[0m                                 Traceback (most recent call last)",
      "Cell \u001B[1;32mIn[20], line 1\u001B[0m\n\u001B[1;32m----> 1\u001B[0m \u001B[43mstr1\u001B[49m\u001B[43m \u001B[49m\u001B[38;5;241;43m+\u001B[39;49m\u001B[43m \u001B[49m\u001B[38;5;241;43m2\u001B[39;49m\n",
      "\u001B[1;31mTypeError\u001B[0m: can only concatenate str (not \"int\") to str"
     ]
    }
   ],
   "execution_count": 20
  },
  {
   "metadata": {
    "ExecuteTime": {
     "end_time": "2024-07-17T08:00:36.660764Z",
     "start_time": "2024-07-17T08:00:36.642682Z"
    }
   },
   "cell_type": "code",
   "source": "str1 + '2'",
   "id": "4b669dc15dce9edd",
   "outputs": [
    {
     "data": {
      "text/plain": [
       "'a2'"
      ]
     },
     "execution_count": 21,
     "metadata": {},
     "output_type": "execute_result"
    }
   ],
   "execution_count": 21
  },
  {
   "metadata": {},
   "cell_type": "markdown",
   "source": [
    "## 함수\n",
    "### 내장 함수"
   ],
   "id": "29e4401adce41c29"
  },
  {
   "metadata": {
    "ExecuteTime": {
     "end_time": "2024-07-17T08:10:59.765500Z",
     "start_time": "2024-07-17T08:10:59.746959Z"
    }
   },
   "cell_type": "code",
   "source": [
    "x = [1, 2, 3]\n",
    "x"
   ],
   "id": "f109db8fa0eba9a8",
   "outputs": [
    {
     "data": {
      "text/plain": [
       "[1, 2, 3]"
      ]
     },
     "execution_count": 22,
     "metadata": {},
     "output_type": "execute_result"
    }
   ],
   "execution_count": 22
  },
  {
   "metadata": {
    "ExecuteTime": {
     "end_time": "2024-07-17T08:11:47.714497Z",
     "start_time": "2024-07-17T08:11:47.699974Z"
    }
   },
   "cell_type": "code",
   "source": [
    "# 함수 적용하기\n",
    "sum(x)      # 합계"
   ],
   "id": "8d7f01ab7624562c",
   "outputs": [
    {
     "data": {
      "text/plain": [
       "6"
      ]
     },
     "execution_count": 23,
     "metadata": {},
     "output_type": "execute_result"
    }
   ],
   "execution_count": 23
  },
  {
   "metadata": {
    "ExecuteTime": {
     "end_time": "2024-07-17T08:13:34.760717Z",
     "start_time": "2024-07-17T08:13:34.752203Z"
    }
   },
   "cell_type": "code",
   "source": "sum([4, 5, 6])",
   "id": "d2eb1103dd3582c9",
   "outputs": [
    {
     "data": {
      "text/plain": [
       "15"
      ]
     },
     "execution_count": 24,
     "metadata": {},
     "output_type": "execute_result"
    }
   ],
   "execution_count": 24
  },
  {
   "metadata": {
    "ExecuteTime": {
     "end_time": "2024-07-17T08:14:27.053618Z",
     "start_time": "2024-07-17T08:14:27.043086Z"
    }
   },
   "cell_type": "code",
   "source": "max(x)      # 최대값",
   "id": "9dd4aa2ad5617102",
   "outputs": [
    {
     "data": {
      "text/plain": [
       "3"
      ]
     },
     "execution_count": 25,
     "metadata": {},
     "output_type": "execute_result"
    }
   ],
   "execution_count": 25
  },
  {
   "metadata": {
    "ExecuteTime": {
     "end_time": "2024-07-17T08:14:50.727788Z",
     "start_time": "2024-07-17T08:14:50.705246Z"
    }
   },
   "cell_type": "code",
   "source": "min(x)      # 최소값",
   "id": "392fbb858283b0a6",
   "outputs": [
    {
     "data": {
      "text/plain": [
       "1"
      ]
     },
     "execution_count": 26,
     "metadata": {},
     "output_type": "execute_result"
    }
   ],
   "execution_count": 26
  },
  {
   "metadata": {},
   "cell_type": "markdown",
   "source": "### 함수의 결과물로 새 변수 만들기",
   "id": "5592e276c9c25fca"
  },
  {
   "metadata": {
    "ExecuteTime": {
     "end_time": "2024-07-17T08:19:08.528290Z",
     "start_time": "2024-07-17T08:19:08.517757Z"
    }
   },
   "cell_type": "code",
   "source": [
    "x_sum = sum(x)\n",
    "x_sum"
   ],
   "id": "398eb0f3894ff00",
   "outputs": [
    {
     "data": {
      "text/plain": [
       "6"
      ]
     },
     "execution_count": 27,
     "metadata": {},
     "output_type": "execute_result"
    }
   ],
   "execution_count": 27
  },
  {
   "metadata": {
    "ExecuteTime": {
     "end_time": "2024-07-17T08:20:12.116816Z",
     "start_time": "2024-07-17T08:20:12.103293Z"
    }
   },
   "cell_type": "code",
   "source": [
    "x_max = max(x)\n",
    "x_max"
   ],
   "id": "59fb25fc7dcc71cc",
   "outputs": [
    {
     "data": {
      "text/plain": [
       "3"
      ]
     },
     "execution_count": 28,
     "metadata": {},
     "output_type": "execute_result"
    }
   ],
   "execution_count": 28
  },
  {
   "metadata": {
    "ExecuteTime": {
     "end_time": "2024-07-17T08:20:40.066490Z",
     "start_time": "2024-07-17T08:20:40.051795Z"
    }
   },
   "cell_type": "code",
   "source": "x_sum + x_max",
   "id": "5280dd817173876d",
   "outputs": [
    {
     "data": {
      "text/plain": [
       "9"
      ]
     },
     "execution_count": 29,
     "metadata": {},
     "output_type": "execute_result"
    }
   ],
   "execution_count": 29
  },
  {
   "metadata": {},
   "cell_type": "code",
   "outputs": [],
   "execution_count": null,
   "source": "",
   "id": "8488258d64d46160"
  }
 ],
 "metadata": {
  "kernelspec": {
   "display_name": "Python 3",
   "language": "python",
   "name": "python3"
  },
  "language_info": {
   "codemirror_mode": {
    "name": "ipython",
    "version": 2
   },
   "file_extension": ".py",
   "mimetype": "text/x-python",
   "name": "python",
   "nbconvert_exporter": "python",
   "pygments_lexer": "ipython2",
   "version": "2.7.6"
  }
 },
 "nbformat": 4,
 "nbformat_minor": 5
}
